{
 "cells": [
  {
   "cell_type": "markdown",
   "metadata": {},
   "source": [
    "# Dice Roll Simulator"
   ]
  },
  {
   "cell_type": "code",
   "execution_count": 1,
   "metadata": {},
   "outputs": [
    {
     "name": "stdout",
     "output_type": "stream",
     "text": [
      "Rolling The Dices...\n",
      "The Values are: \n",
      "2\n",
      "Rolling The Dices...\n",
      "The Values are: \n",
      "1\n",
      "Rolling The Dices...\n",
      "The Values are: \n",
      "2\n"
     ]
    }
   ],
   "source": [
    "import random\n",
    "\n",
    "# range of the values of a dice\n",
    "min_val = 1\n",
    "max_val = 6\n",
    "\n",
    "# to loop the rolling through user input\n",
    "roll_again = \"yes\"\n",
    "\n",
    "# loop\n",
    "while roll_again == \"yes\" or roll_again == \"y\":\n",
    "    print(\"Rolling The Dices...\")\n",
    "    print(\"The Values are: \")\n",
    "\n",
    "    # generating and printing 1st random integer from 1 to 6\n",
    "    print(random.randint(min_val, max_val))\n",
    "\n",
    "    # asking user to roll thhe dice again\n",
    "    # Any input other than yes or y will terminate the Loop\n",
    "    roll_again = input(\"Roll the Dices Again? \")"
   ]
  },
  {
   "cell_type": "code",
   "execution_count": null,
   "metadata": {},
   "outputs": [],
   "source": []
  }
 ],
 "metadata": {
  "kernelspec": {
   "display_name": "Python 3.10.5 64-bit",
   "language": "python",
   "name": "python3"
  },
  "language_info": {
   "codemirror_mode": {
    "name": "ipython",
    "version": 3
   },
   "file_extension": ".py",
   "mimetype": "text/x-python",
   "name": "python",
   "nbconvert_exporter": "python",
   "pygments_lexer": "ipython3",
   "version": "3.10.5"
  },
  "orig_nbformat": 4,
  "vscode": {
   "interpreter": {
    "hash": "a23bcfe06a6d672af8b0fbe906cddea9cbe9d26b453b4b4efa0a359c506158a1"
   }
  }
 },
 "nbformat": 4,
 "nbformat_minor": 2
}
